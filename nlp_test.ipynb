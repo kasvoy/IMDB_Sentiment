{
 "cells": [
  {
   "cell_type": "markdown",
   "metadata": {},
   "source": [
    "TASK 1 - Sentiment analysis - plan\n",
    "\n",
    "1. Get data - Stanford/Kaggle IMDB\n",
    "2. Preprocessing - remove stop words, stemming, lemmatization, lowercasing, punctuation\n",
    "3. Feature extraction - convert the text into numbers, like vectors, using n-grams, bow, tf-idf etc.\n",
    "4. Supervised learning\n"
   ]
  },
  {
   "cell_type": "code",
   "execution_count": 18,
   "metadata": {},
   "outputs": [],
   "source": [
    "import os, random\n",
    "\n",
    "train_path = \"data/aclImdb/train/\"\n",
    "\n",
    "def load_train_dataset(path) -> list:\n",
    "    train_texts = []\n",
    "    train_labels = []\n",
    "    \n",
    "    for label in ['pos', 'neg']:\n",
    "        cat_path = os.path.join(path, label)\n",
    "        for file_name in os.listdir(cat_path):\n",
    "            file_path = os.path.join(cat_path, file_name)\n",
    "            with open(file_path, 'r') as file:\n",
    "                text = file.read()\n",
    "                train_texts.append(text)\n",
    "            train_labels.append(0 if label=='neg' else 1)\n",
    "    \n",
    "    \n",
    "    random.seed(1)\n",
    "    random.shuffle(train_texts)\n",
    "    random.seed(1)\n",
    "    random.shuffle(train_labels)\n",
    "\n",
    "    return (train_texts, train_labels)"
   ]
  },
  {
   "cell_type": "code",
   "execution_count": 19,
   "metadata": {},
   "outputs": [],
   "source": [
    "(texts, labels) = load_train_dataset(train_path)"
   ]
  },
  {
   "cell_type": "code",
   "execution_count": null,
   "metadata": {},
   "outputs": [],
   "source": []
  }
 ],
 "metadata": {
  "kernelspec": {
   "display_name": "venv",
   "language": "python",
   "name": "python3"
  },
  "language_info": {
   "codemirror_mode": {
    "name": "ipython",
    "version": 3
   },
   "file_extension": ".py",
   "mimetype": "text/x-python",
   "name": "python",
   "nbconvert_exporter": "python",
   "pygments_lexer": "ipython3",
   "version": "3.12.0"
  }
 },
 "nbformat": 4,
 "nbformat_minor": 2
}
