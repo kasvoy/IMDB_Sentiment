{
 "cells": [
  {
   "cell_type": "markdown",
   "metadata": {},
   "source": [
    "TASK 1 - Sentiment analysis - plan\n",
    "\n",
    "1. Get data - Stanford/Kaggle IMDB\n",
    "2. Preprocessing - remove stop words, stemming, lemmatization, lowercasing, punctuation\n",
    "3. Feature extraction - convert the text into numbers, like vectors, using n-grams, bow, tf-idf etc.\n",
    "4. Supervised learning\n"
   ]
  },
  {
   "cell_type": "code",
   "execution_count": null,
   "metadata": {},
   "outputs": [],
   "source": [
    "import spacy, os\n",
    "nlp = spacy.load(\"en_core_web_sm\")"
   ]
  },
  {
   "cell_type": "code",
   "execution_count": null,
   "metadata": {},
   "outputs": [],
   "source": [
    "def get_reviews_tolist(path) -> list:\n",
    "    texts = []\n",
    "    \n",
    "    files = os.listdir(path)\n",
    "\n",
    "    for file_name in files:\n",
    "        file_path = os.path.join(path, file_name)\n",
    "        with open(file_path, 'r') as file:\n",
    "            text = file.read()\n",
    "            texts.append(text)\n",
    "    \n",
    "    return texts"
   ]
  },
  {
   "cell_type": "code",
   "execution_count": null,
   "metadata": {},
   "outputs": [],
   "source": [
    "neg_texts_path = \"data/aclImdb/train/neg\"\n",
    "pos_texts_path = \"data/aclImdb/train/pos\"\n",
    "\n",
    "neg_texts = get_reviews_tolist(neg_texts_path)\n",
    "pos_texts = get_reviews_tolist(pos_texts_path)"
   ]
  }
 ],
 "metadata": {
  "kernelspec": {
   "display_name": "venv",
   "language": "python",
   "name": "python3"
  },
  "language_info": {
   "codemirror_mode": {
    "name": "ipython",
    "version": 3
   },
   "file_extension": ".py",
   "mimetype": "text/x-python",
   "name": "python",
   "nbconvert_exporter": "python",
   "pygments_lexer": "ipython3",
   "version": "3.12.0"
  }
 },
 "nbformat": 4,
 "nbformat_minor": 2
}
