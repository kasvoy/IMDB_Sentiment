{
 "cells": [
  {
   "cell_type": "code",
   "execution_count": null,
   "metadata": {},
   "outputs": [],
   "source": [
    "import os, random, re\n",
    "\n",
    "train_path = \"data/aclImdb/train/\"\n",
    "test_path  = \"data/aclImdb/test/\"\n",
    "\n",
    "#adapted from https://developers.google.com/machine-learning/guides/text-classification/step-2\n",
    "def load_train_dataset(path: str) -> tuple:\n",
    "    train_texts = []\n",
    "    train_labels = []\n",
    "    \n",
    "    for label in ['pos', 'neg']:\n",
    "        cat_path = os.path.join(path, label)\n",
    "        for file_name in os.listdir(cat_path):\n",
    "            file_path = os.path.join(cat_path, file_name)\n",
    "            with open(file_path, 'r') as file:\n",
    "                text = file.read()\n",
    "                train_texts.append(text)\n",
    "            train_labels.append(0 if label=='neg' else 1)\n",
    "    \n",
    "\n",
    "    random.seed(1)\n",
    "    random.shuffle(train_texts)\n",
    "    random.seed(1)\n",
    "    random.shuffle(train_labels)\n",
    "    \n",
    "    #remove html tags from the texts\n",
    "    train_texts = [re.sub('<.*?>', '', text) for text in train_texts]\n",
    "    \n",
    "    return (train_texts, train_labels)\n",
    "\n",
    "(train_texts, train_labels) = load_train_dataset(train_path)"
   ]
  },
  {
   "cell_type": "code",
   "execution_count": null,
   "metadata": {},
   "outputs": [],
   "source": [
    "def get_smaller_dataset(size: int, texts: list[str], labels: list[int], seed=10) -> tuple:\n",
    "    \n",
    "    random.seed(seed)\n",
    "    smaller_texts = random.sample(texts, size)\n",
    "    random.seed(seed)\n",
    "    smaller_labels = random.sample(labels, size)\n",
    "\n",
    "    return (smaller_texts, smaller_labels)"
   ]
  },
  {
   "cell_type": "code",
   "execution_count": null,
   "metadata": {},
   "outputs": [],
   "source": [
    "from sklearn.model_selection import train_test_split\n",
    "from sklearn.feature_extraction.text import TfidfVectorizer\n",
    "import numpy as np\n",
    "\n",
    "random.seed()\n",
    "seed = random.randint(1, 1000)\n",
    "\n",
    "(sm_texts, sm_labels) = get_smaller_dataset(2000, train_texts, train_labels, seed=seed)\n",
    "vectorizer = TfidfVectorizer(max_features=20000, ngram_range=(1,2))\n",
    "\n",
    "X_sm = vectorizer.fit_transform(sm_texts)\n",
    "y_sm = np.array(sm_labels)\n",
    "\n",
    "X_sm_train, X_sm_test, y_sm_train, y_sm_test = train_test_split(X_sm, y_sm, test_size=0.33, random_state=42)"
   ]
  },
  {
   "cell_type": "code",
   "execution_count": null,
   "metadata": {},
   "outputs": [],
   "source": [
    "from sklearn.naive_bayes import ComplementNB\n",
    "from sklearn.metrics import accuracy_score\n",
    "\n",
    "clf = ComplementNB()\n",
    "clf.fit(X_sm_train, y_sm_train)\n",
    "y_pred = clf.predict(X_sm_test)\n",
    "\n",
    "accuracy_score(y_sm_test, y_pred)"
   ]
  }
 ],
 "metadata": {
  "kernelspec": {
   "display_name": "venv",
   "language": "python",
   "name": "python3"
  },
  "language_info": {
   "codemirror_mode": {
    "name": "ipython",
    "version": 3
   },
   "file_extension": ".py",
   "mimetype": "text/x-python",
   "name": "python",
   "nbconvert_exporter": "python",
   "pygments_lexer": "ipython3",
   "version": "3.12.0"
  }
 },
 "nbformat": 4,
 "nbformat_minor": 2
}
