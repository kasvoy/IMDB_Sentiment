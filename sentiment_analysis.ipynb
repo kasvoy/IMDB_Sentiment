{
 "cells": [
  {
   "cell_type": "code",
   "execution_count": 126,
   "metadata": {},
   "outputs": [],
   "source": [
    "import os, random\n",
    "\n",
    "train_path = \"data/aclImdb/train/\"\n",
    "\n",
    "#adapted from https://developers.google.com/machine-learning/guides/text-classification/step-2\n",
    "def load_train_dataset(path: str) -> tuple:\n",
    "    train_texts = []\n",
    "    train_labels = []\n",
    "    \n",
    "    for label in ['pos', 'neg']:\n",
    "        cat_path = os.path.join(path, label)\n",
    "        for file_name in os.listdir(cat_path):\n",
    "            file_path = os.path.join(cat_path, file_name)\n",
    "            with open(file_path, 'r') as file:\n",
    "                text = file.read()\n",
    "                train_texts.append(text)\n",
    "            train_labels.append(0 if label=='neg' else 1)\n",
    "    \n",
    "    \n",
    "    random.seed(1)\n",
    "    random.shuffle(train_texts)\n",
    "    random.seed(1)\n",
    "    random.shuffle(train_labels)\n",
    "\n",
    "    return (train_texts, train_labels)\n",
    "\n",
    "(train_texts, train_labels) = load_train_dataset(train_path)"
   ]
  },
  {
   "cell_type": "code",
   "execution_count": 127,
   "metadata": {},
   "outputs": [],
   "source": [
    "from sklearn.model_selection import train_test_split\n",
    "import numpy as np\n",
    "\n",
    "def get_smaller_dataset(size: int, texts: list[str], labels: list[int], seed=10) -> tuple:\n",
    "\n",
    "    random.seed(seed)\n",
    "    smaller_texts = random.sample(texts, size)\n",
    "    random.seed(seed)\n",
    "    smaller_labels = random.sample(labels, size)\n",
    "    \n",
    "    sm_train_texts, sm_test_texts, sm_train_labels, sm_test_labels = train_test_split(smaller_texts, np.array(smaller_labels))\n",
    "    \n",
    "    return ((sm_train_texts, sm_train_labels), (sm_test_texts, sm_test_labels))"
   ]
  },
  {
   "cell_type": "code",
   "execution_count": 128,
   "metadata": {},
   "outputs": [],
   "source": [
    "import re\n",
    "\n",
    "def clear_br_tags(text) -> str:\n",
    "    tags_removed_text = re.sub('<.*?>', '', text)\n",
    "    return tags_removed_text\n",
    "\n",
    "train_texts = [clear_br_tags(text) for text in train_texts]"
   ]
  },
  {
   "cell_type": "code",
   "execution_count": 129,
   "metadata": {},
   "outputs": [],
   "source": [
    "((sm_train_texts, sm_train_labels), (sm_test_texts, sm_test_labels)) = get_smaller_dataset(texts=train_texts, labels=train_labels, size=1000, seed=random.randint(1, 200))"
   ]
  },
  {
   "cell_type": "code",
   "execution_count": 130,
   "metadata": {},
   "outputs": [],
   "source": [
    "from sklearn.feature_extraction.text import TfidfVectorizer\n",
    "\n",
    "vectorizer = TfidfVectorizer(max_features=1000, ngram_range=(1,2))\n",
    "\n",
    "X_sm_train = vectorizer.fit_transform(sm_train_texts).toarray()\n",
    "Y_sm_train = np.array(sm_train_labels)\n",
    "\n",
    "X_sm_test = vectorizer.fit_transform(sm_test_texts).toarray()\n",
    "Y_sm_test = np.array(sm_test_labels)"
   ]
  },
  {
   "cell_type": "code",
   "execution_count": null,
   "metadata": {},
   "outputs": [],
   "source": []
  }
 ],
 "metadata": {
  "kernelspec": {
   "display_name": "venv",
   "language": "python",
   "name": "python3"
  },
  "language_info": {
   "codemirror_mode": {
    "name": "ipython",
    "version": 3
   },
   "file_extension": ".py",
   "mimetype": "text/x-python",
   "name": "python",
   "nbconvert_exporter": "python",
   "pygments_lexer": "ipython3",
   "version": "3.12.0"
  }
 },
 "nbformat": 4,
 "nbformat_minor": 2
}
