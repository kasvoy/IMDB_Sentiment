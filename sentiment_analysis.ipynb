{
 "cells": [
  {
   "cell_type": "code",
   "execution_count": null,
   "metadata": {},
   "outputs": [],
   "source": [
    "import os, random, re\n",
    "\n",
    "DATA_PATH  = \"data/aclImdb/\"\n",
    "\n",
    "def load_inidv_dataset(set_path: str) -> tuple:\n",
    "    texts = []\n",
    "    labels = []\n",
    "    \n",
    "    for label in ['pos', 'neg']:\n",
    "        cat_path = os.path.join(set_path, label)\n",
    "        for file_name in os.listdir(cat_path):\n",
    "            file_path = os.path.join(cat_path, file_name)\n",
    "            with open(file_path, 'r') as file:\n",
    "                text = file.read()\n",
    "                texts.append(text)\n",
    "            labels.append(0 if label=='neg' else 1)\n",
    "            \n",
    "    return (texts, labels)\n",
    "\n",
    "\n",
    "def load_dataset(train_path: str, test_path: str, seed=1) -> tuple:\n",
    "    train_texts = []\n",
    "    train_labels = []\n",
    "    \n",
    "    (train_texts, train_labels) = load_inidv_dataset(set_path=train_path)\n",
    "    (test_texts, test_labels)   = load_inidv_dataset(set_path=test_path)\n",
    "\n",
    "    random.seed(seed)\n",
    "    random.shuffle(train_texts)\n",
    "    random.shuffle(test_texts)\n",
    "    \n",
    "    random.seed(seed)\n",
    "    random.shuffle(train_labels)\n",
    "    random.shuffle(test_labels)\n",
    "    \n",
    "    #remove html tags from the texts\n",
    "    train_texts = [re.sub('<.*?>', '', text) for text in train_texts]\n",
    "    test_texts  = [re.sub('<.*?>', '', text) for text in test_texts]\n",
    "    \n",
    "    return ((train_texts, train_labels), (test_texts, test_labels))"
   ]
  },
  {
   "cell_type": "code",
   "execution_count": null,
   "metadata": {},
   "outputs": [],
   "source": [
    "train_path = os.path.join(DATA_PATH, \"train\")\n",
    "test_path  = os.path.join(DATA_PATH, \"test\")\n",
    "\n",
    "((train_texts, train_labels), (test_texts, test_labels)) = load_dataset(train_path=train_path, test_path=test_path)"
   ]
  },
  {
   "cell_type": "code",
   "execution_count": null,
   "metadata": {},
   "outputs": [],
   "source": [
    "def get_smaller_dataset(size: int, texts: list[str], labels: list[int], seed=10) -> tuple:\n",
    "    \n",
    "    random.seed(seed)\n",
    "    smaller_texts = random.sample(texts, size)\n",
    "    random.seed(seed)\n",
    "    smaller_labels = random.sample(labels, size)\n",
    "\n",
    "    return (smaller_texts, smaller_labels)"
   ]
  },
  {
   "cell_type": "code",
   "execution_count": null,
   "metadata": {},
   "outputs": [],
   "source": [
    "import numpy as np\n",
    "\n",
    "from sklearn.model_selection import train_test_split\n",
    "from sklearn.feature_selection import SelectKBest, f_classif\n",
    "from sklearn.feature_extraction.text import TfidfVectorizer\n",
    "\n",
    "random.seed()\n",
    "seed = random.randint(1, 1000)\n",
    "\n",
    "(sm_texts, sm_labels) = get_smaller_dataset(10000, train_texts, train_labels, seed=seed)\n",
    "\n",
    "selector = SelectKBest(score_func=f_classif, k=10000)\n",
    "vectorizer = TfidfVectorizer(ngram_range=(1,2), min_df=5)\n",
    "\n",
    "X_sm = vectorizer.fit_transform(sm_texts)\n",
    "y_sm = np.array(sm_labels)\n",
    "\n",
    "X_sm = selector.fit_transform(X_sm, y_sm)\n",
    "\n",
    "X_sm_train, X_sm_test, y_sm_train, y_sm_test = train_test_split(X_sm, y_sm, test_size=0.33, random_state=42)"
   ]
  },
  {
   "cell_type": "code",
   "execution_count": null,
   "metadata": {},
   "outputs": [],
   "source": [
    "from sklearn.naive_bayes import ComplementNB\n",
    "from sklearn.metrics import accuracy_score\n",
    "\n",
    "clf = ComplementNB()\n",
    "clf.fit(X_sm_train, y_sm_train)\n",
    "y_pred = clf.predict(X_sm_test)\n",
    "\n",
    "accuracy_score(y_sm_test, y_pred)"
   ]
  },
  {
   "cell_type": "code",
   "execution_count": null,
   "metadata": {},
   "outputs": [],
   "source": [
    "from torch import nn"
   ]
  },
  {
   "cell_type": "code",
   "execution_count": null,
   "metadata": {},
   "outputs": [],
   "source": []
  }
 ],
 "metadata": {
  "kernelspec": {
   "display_name": "venv",
   "language": "python",
   "name": "python3"
  },
  "language_info": {
   "codemirror_mode": {
    "name": "ipython",
    "version": 3
   },
   "file_extension": ".py",
   "mimetype": "text/x-python",
   "name": "python",
   "nbconvert_exporter": "python",
   "pygments_lexer": "ipython3",
   "version": "3.11.2"
  }
 },
 "nbformat": 4,
 "nbformat_minor": 2
}
